{
 "cells": [
  {
   "cell_type": "code",
   "execution_count": 1,
   "metadata": {
    "id": "ZS2siGtqyq-f"
   },
   "outputs": [],
   "source": [
    "import pandas as pd\n",
    "import numpy as np\n",
    "import math\n",
    "import os\n",
    "import datetime\n",
    "import matplotlib.pyplot as plt\n",
    "import math"
   ]
  },
  {
   "cell_type": "code",
   "execution_count": 2,
   "metadata": {},
   "outputs": [],
   "source": [
    "# Paths for input and output\n",
    "path_in = \"./../data/\"\n",
    "path_out = \"./../data/\""
   ]
  },
  {
   "cell_type": "code",
   "execution_count": 3,
   "metadata": {
    "id": "6SyijUrB4Y8t"
   },
   "outputs": [],
   "source": [
    "# Create dictionary for mapping of VehId to Vehicle_Type\n",
    "df_IceHev = pd.read_excel (path_in+'/VED_Static_Data_ICE&HEV.xlsx')\n",
    "df_IceHev.rename(columns={'Vehicle Type': 'Vehicle_Type'}, inplace=True)\n",
    "df_PhevEv = pd.read_excel (path_in+'/VED_Static_Data_PHEV&EV.xlsx')\n",
    "df_PhevEv.rename(columns={'EngineType': 'Vehicle_Type'}, inplace=True)\n",
    "df_VehId = df_IceHev.append(df_PhevEv, ignore_index = True)\n",
    "df_VehId.sort_values(by='VehId', inplace=True)\n",
    "df_VehId = df_VehId.set_index('VehId')\n",
    "pd.set_option(\"display.max_rows\", None, \"display.max_columns\", None)\n",
    "dictVehId = df_VehId.to_dict('index')\n",
    "#dictVehId[12]['Vehicle_Type']"
   ]
  },
  {
   "cell_type": "markdown",
   "metadata": {
    "id": "7KE0rghhp9YV"
   },
   "source": [
    "# Energy Consumption Calculation"
   ]
  },
  {
   "cell_type": "code",
   "execution_count": 4,
   "metadata": {
    "id": "LgwTfDyYarGs",
    "scrolled": false
   },
   "outputs": [],
   "source": [
    "def calculateEnergyConsumption(df):\n",
    "    df_org = df.copy()\n",
    "    column_name = 'Energy_Consumption'\n",
    "    if column_name not in df.columns:\n",
    "        #print(\"Create column\", column_name)\n",
    "        df[column_name] = \"\"\n",
    "\n",
    "    arr_VehId = df[[\"VehId\" , \"Vehicle Speed[km/h]\", \"MAF[g/sec]\", \"Short Term Fuel Trim Bank 1[%]\", \"Long Term Fuel Trim Bank 1[%]\", \"HV Battery Current[A]\", \"HV Battery Voltage[V]\", column_name]].to_numpy()\n",
    "    list_Energy_Consumption = []\n",
    "    for row in arr_VehId:\n",
    "        vehicle_type = dictVehId[row[0]]['Vehicle_Type']\n",
    "        if vehicle_type == \"ICE\" or vehicle_type == \"HEV\":\n",
    "            '''\n",
    "            The formula to calculate the energy consumption is as following:\n",
    "\n",
    "            Energy consumption=DrivingLength/100*MassAirFlow*(1+ShortTermFuelTrimBank1/100+LongTermFuelTrimBank1/100)/AirFuelRation\n",
    "\n",
    "            where the Mass Air Flow is measured by gallon per second, Driving Length is measured by km, and the Air Fuel \n",
    "            Ration is provided with the value of 14.08 according to a literature:\n",
    "\n",
    "            G. Oh, D. J. Leblanc and H. Peng, \"Vehicle Energy Dataset (VED), A Large-Scale Dataset for Vehicle Energy \n",
    "            Consumption Research,\" in IEEE Transactions on Intelligent Transportation Systems, \n",
    "            doi: 10.1109/TITS.2020.3035596.\n",
    "            '''\n",
    "            #print(\"ICE or HEV found\")\n",
    "            # calculate energy consumption\n",
    "                # /3600 as sampling rate is 1 sec ; value from \"Vehicle Speed[km/h]\"\n",
    "                # The reason is as following:\n",
    "                # row[1] is measured by km/h, which is treated to be the constant value during the sampling time of one second.\n",
    "                # So, if we need to calculate the length during each sampling time, we need to multiple the speed (measured by km/h) by the duration (measured by h), which lead to:\n",
    "                # row[1]*1/60/60=row[1]/3600\n",
    "            DrivingLength = row[1] / 3600        # row[1] = Vehicle Speed[km/h]\n",
    "            MassAirFlow =   row[2] * 3.78541     # recalculation from gallons to liters; value from \"MAF[g/sec]\"\n",
    "            ShortTermFuelTrimBank1 = row[3]      # value from \"Short Term Fuel Trim Bank 1[%]\"\n",
    "            LongTermFuelTrimBank1 = row[4]       # value from \"Long Term Fuel Trim Bank 1[%]\"\n",
    "            AirFuelRation = 14.08\n",
    "            #print(\"Length=\", DrivingLength, \"MassAirFlow=\", MassAirFlow, \"ShortTermFuelTrimBank1=\", ShortTermFuelTrimBank1, \"LongTermFuelTrimBank1=\", LongTermFuelTrimBank1)\n",
    "            in_liter_per_hour=DrivingLength/100*MassAirFlow*(1+ShortTermFuelTrimBank1/100+LongTermFuelTrimBank1/100)/AirFuelRation\n",
    "            # recalcualte energy consuption into kWh ; 1 kw*h = 0.1123 liter\n",
    "            in_kilo_watts_perHour = in_liter_per_hour / 0.1123\n",
    "            #if not math.isnan(in_kilo_watts_perHour):\n",
    "            #  print(\"EC =\", in_kilo_watts_perHour, \"kWh (\", in_liter_per_hour, \")\" )\n",
    "            list_Energy_Consumption.append(in_kilo_watts_perHour)\n",
    "\n",
    "        elif vehicle_type == \"PHEV\" or vehicle_type == \"EV\":\n",
    "            '''\n",
    "            The energy consumption for EV can be calculated by integrating the voltage and current of the EV battery over \n",
    "            time, and this energy consumption can be measured by kw*h.\n",
    "\n",
    "            The convert between EV energy consumption (kw*h) and gas consumption (measured by liter) can be achieved as \n",
    "            following:\n",
    "\n",
    "            1 kw*h = 0.1123 liter\n",
    "\n",
    "            The EV energy consumption calculation can be referred from: \n",
    "            https://www.google.com/url?sa=t&rct=j&q=&esrc=s&source=web&cd=&cad=rja&uact=8&ved=2ahUKEwiY3Jzc3K70AhVpo4sKHTLUA9gQFnoECAYQAQ&url=https%3A%2F%2Fwww.mdpi.com%2F1996-1073%2F8%2F8%2F8573%2Fpdf&usg=AOvVaw3LyboWSueHI9UM0mJe5ypq\n",
    "\n",
    "            The convert from kw*h to liter can be referred from: \n",
    "            https://en.wikipedia.org/wiki/Miles_per_gallon_gasoline_equivalent#Description\n",
    "            '''\n",
    "            #print(\"PHEV or EV found\")\n",
    "            # calculate energy consumption\n",
    "            in_watts = row[5] * row[6] * (-1) # = \"HV Battery Current[A]\" * \"HV Battery Voltage[V]\", *(-1) EV formula needs to interpreted in that way that the consumed energy is negative while the produced one is positive\n",
    "            in_kilo_watts = in_watts / 1000\n",
    "            # recalcualte energy consuption into kWh\n",
    "            # measurement of A in 1 sec ; V in 5 sec => Therefore one line covers the smaller unit 1 second\n",
    "            #print(\"HV Battery Current[A]\", row[5], \"HV Battery Voltage[V]\", row[6])\n",
    "            in_kilo_watts_perHour = in_kilo_watts / 3600\n",
    "            #print(\"EC =\", in_kilo_watts_perHour, \"kWh (\", in_kilo_watts, in_watts, \")\" )\n",
    "            list_Energy_Consumption.append(in_kilo_watts_perHour)\n",
    "\n",
    "        else:\n",
    "            print(\"Unknown Vehicle_Type\", row[0], \"found\")\n",
    "\n",
    "    #df['Energy_Consumption'] = list_Energy_Consumption\n",
    "    df_org['Energy_Consumption'] = list_Energy_Consumption\n",
    "    return df_org"
   ]
  },
  {
   "cell_type": "code",
   "execution_count": null,
   "metadata": {},
   "outputs": [],
   "source": []
  },
  {
   "cell_type": "markdown",
   "metadata": {
    "id": "j0syPBlrjmrd"
   },
   "source": [
    "# Reworking of all original files"
   ]
  },
  {
   "cell_type": "code",
   "execution_count": 5,
   "metadata": {},
   "outputs": [],
   "source": [
    "list_files = []    \n",
    "for file in os.listdir(path_in):\n",
    "    if file.endswith(\"_week.csv\"):\n",
    "        list_files.append(file)"
   ]
  },
  {
   "cell_type": "code",
   "execution_count": 6,
   "metadata": {},
   "outputs": [
    {
     "name": "stdout",
     "output_type": "stream",
     "text": [
      "Execution time =  VED_171101_week.csv : 9.888816118240356\n",
      "Execution time =  VED_171108_week.csv : 9.541045904159546\n",
      "Execution time =  VED_171115_week.csv : 10.846029043197632\n",
      "Execution time =  VED_171122_week.csv : 8.577940940856934\n",
      "Execution time =  VED_171129_week.csv : 9.552509069442749\n",
      "Execution time =  VED_171206_week.csv : 10.801214933395386\n",
      "Execution time =  VED_171213_week.csv : 12.398997068405151\n",
      "Execution time =  VED_171220_week.csv : 9.741503953933716\n",
      "Execution time =  VED_171227_week.csv : 5.659049987792969\n",
      "Execution time =  VED_180103_week.csv : 7.128296136856079\n",
      "Execution time =  VED_180110_week.csv : 10.233113050460815\n",
      "Execution time =  VED_180117_week.csv : 9.690773963928223\n",
      "Execution time =  VED_180124_week.csv : 8.43485403060913\n",
      "Execution time =  VED_180131_week.csv : 8.949444055557251\n",
      "Execution time =  VED_180207_week.csv : 7.7250587940216064\n",
      "Execution time =  VED_180214_week.csv : 7.392001152038574\n",
      "Execution time =  VED_180221_week.csv : 5.865344047546387\n",
      "Execution time =  VED_180228_week.csv : 7.966830015182495\n",
      "Execution time =  VED_180307_week.csv : 7.3129050731658936\n",
      "Execution time =  VED_180314_week.csv : 7.454961061477661\n",
      "Execution time =  VED_180321_week.csv : 7.334964990615845\n",
      "Execution time =  VED_180328_week.csv : 6.493051052093506\n",
      "Execution time =  VED_180404_week.csv : 8.315284013748169\n",
      "Execution time =  VED_180411_week.csv : 7.657871961593628\n",
      "Execution time =  VED_180418_week.csv : 8.63765001296997\n",
      "Execution time =  VED_180425_week.csv : 7.897945880889893\n",
      "Execution time =  VED_180502_week.csv : 7.535109996795654\n",
      "Execution time =  VED_180509_week.csv : 7.370058059692383\n",
      "Execution time =  VED_180516_week.csv : 8.234884977340698\n",
      "Execution time =  VED_180523_week.csv : 7.743973970413208\n",
      "Execution time =  VED_180530_week.csv : 7.505343914031982\n",
      "Execution time =  VED_180606_week.csv : 7.749966144561768\n",
      "Execution time =  VED_180613_week.csv : 6.840182065963745\n",
      "Execution time =  VED_180620_week.csv : 9.27295184135437\n",
      "Execution time =  VED_180627_week.csv : 10.812565088272095\n",
      "Execution time =  VED_180704_week.csv : 6.055830001831055\n",
      "Execution time =  VED_180711_week.csv : 7.213330984115601\n",
      "Execution time =  VED_180718_week.csv : 7.271965980529785\n",
      "Execution time =  VED_180725_week.csv : 5.97207498550415\n",
      "Execution time =  VED_180801_week.csv : 6.417394161224365\n",
      "Execution time =  VED_180808_week.csv : 6.360198974609375\n",
      "Execution time =  VED_180815_week.csv : 5.3010618686676025\n",
      "Execution time =  VED_180822_week.csv : 5.262967109680176\n",
      "Execution time =  VED_180829_week.csv : 6.512995958328247\n",
      "Execution time =  VED_180905_week.csv : 9.022238969802856\n",
      "Execution time =  VED_180912_week.csv : 7.027529001235962\n",
      "Execution time =  VED_180919_week.csv : 6.726388931274414\n",
      "Execution time =  VED_180926_week.csv : 6.687731027603149\n",
      "Execution time =  VED_181003_week.csv : 6.175661087036133\n",
      "Execution time =  VED_181010_week.csv : 5.615024089813232\n",
      "Execution time =  VED_181017_week.csv : 7.1177568435668945\n",
      "Execution time =  VED_181024_week.csv : 7.9306700229644775\n",
      "Execution time =  VED_181031_week.csv : 6.453009128570557\n",
      "Execution time =  VED_181107_week.csv : 2.064950942993164\n",
      "Execution time overall =  415.75856614112854\n"
     ]
    }
   ],
   "source": [
    "time_overall_start = datetime.datetime.now().timestamp()\n",
    "for file in list_files:\n",
    "    time_start = datetime.datetime.now().timestamp()\n",
    "    df = pd.read_csv (path_in + file)\n",
    "    #print(df.info())\n",
    "    df = calculateEnergyConsumption(df)\n",
    "    #print(df.Energy_Consumption.describe())\n",
    "    #print(df.info())\n",
    "    df.to_csv(path_out + file, index=False, na_rep='nan')\n",
    "    time_end = datetime.datetime.now().timestamp()\n",
    "    print(\"Execution time = \", file, \":\", (time_end-time_start))\n",
    "    \n",
    "    #break\n",
    "    \n",
    "time_overall_end = datetime.datetime.now().timestamp()\n",
    "print(\"Execution time overall = \", (time_overall_end-time_overall_start))"
   ]
  },
  {
   "cell_type": "code",
   "execution_count": null,
   "metadata": {
    "id": "M9tmmfISv6tM"
   },
   "outputs": [],
   "source": []
  },
  {
   "cell_type": "markdown",
   "metadata": {},
   "source": [
    "# Evaluation of generated Energy Consumption"
   ]
  },
  {
   "cell_type": "code",
   "execution_count": 7,
   "metadata": {},
   "outputs": [],
   "source": [
    "def boxplot_EC_perVehicleType(df, surpress=False):\n",
    "    arr_VehId = df[[\"VehId\" , \"Energy_Consumption\"]].to_numpy()\n",
    "    list_EC_ICE = []\n",
    "    list_EC_EV = []\n",
    "    for row in arr_VehId:\n",
    "        vehicle_type = dictVehId[row[0]]['Vehicle_Type']\n",
    "        if vehicle_type == \"ICE\" or vehicle_type == \"HEV\":\n",
    "            if not math.isnan(row[1]):\n",
    "                #print(vehicle_type, row[1])\n",
    "                list_EC_ICE.append(row[1])\n",
    "        elif vehicle_type == \"PHEV\" or vehicle_type == \"EV\":\n",
    "            if not math.isnan(row[1]):\n",
    "                #print(vehicle_type, row[1])\n",
    "                list_EC_EV.append(row[1])\n",
    "        else:\n",
    "            print(\"Unknown Vehicle_Type\", row[0], \"found\")\n",
    "            \n",
    "    # Creating plot\n",
    "    if not surpress:\n",
    "        fig = plt.figure(figsize =(10, 7))\n",
    "        plt.subplot(1, 2, 1)\n",
    "        plt.title('EC for ICE/HEV vehicles')\n",
    "        plt.boxplot(list_EC_ICE)\n",
    "\n",
    "        plt.subplot(1, 2, 2)\n",
    "        plt.title('EC for PHEV/EV vehicles')\n",
    "        plt.boxplot(list_EC_EV)\n",
    "\n",
    "        # show plot\n",
    "        plt.show()\n",
    "    \n",
    "    avg_ICE = (sum(list_EC_ICE) / len(list_EC_ICE))\n",
    "    avg_EC  = (sum(list_EC_EV) / len(list_EC_EV))\n",
    "    if not surpress:\n",
    "        print(\"Average EC ICE:\", avg_ICE)\n",
    "        print(\"Average EC EV:\", avg_EC)\n",
    "    \n",
    "    return [avg_ICE, avg_EC]"
   ]
  },
  {
   "cell_type": "code",
   "execution_count": 8,
   "metadata": {},
   "outputs": [
    {
     "data": {
      "image/png": "[encoded data removed]",
      "text/plain": [
       "<Figure size 720x504 with 2 Axes>"
      ]
     },
     "metadata": {
      "needs_background": "light"
     },
     "output_type": "display_data"
    },
    {
     "name": "stdout",
     "output_type": "stream",
     "text": [
      "Average EC ICE: 0.0032574152263156668\n",
      "Average EC EV: 0.0011408219467592066\n"
     ]
    }
   ],
   "source": [
    "list_values = []\n",
    "df_EC171101 = pd.read_csv (path_out+'VED_171101_week.csv')\n",
    "list_values.append(boxplot_EC_perVehicleType(df_EC171101))"
   ]
  },
  {
   "cell_type": "code",
   "execution_count": 9,
   "metadata": {},
   "outputs": [],
   "source": [
    "for file in os.listdir(path_out):\n",
    "    if file.endswith(\"_week.csv\"):\n",
    "        df_EC171115 = pd.read_csv (path_out+file)\n",
    "        list_values.append(boxplot_EC_perVehicleType(df_EC171115, True))"
   ]
  },
  {
   "cell_type": "code",
   "execution_count": 10,
   "metadata": {},
   "outputs": [
    {
     "data": {
      "image/png": "[encoded data removed]",
      "text/plain": [
       "<Figure size 432x288 with 1 Axes>"
      ]
     },
     "metadata": {
      "needs_background": "light"
     },
     "output_type": "display_data"
    }
   ],
   "source": [
    "import matplotlib.pyplot as plt\n",
    "# line 1 points\n",
    "x1 = list(range(1, len(list_values)+1))\n",
    "y1 = [row[0] for row in list_values]\n",
    "# plotting the line 1 points \n",
    "plt.plot(x1, y1, label = \"ICE\")\n",
    "# line 2 points\n",
    "x2 = list(range(1, len(list_values)+1))\n",
    "y2 = [row[1] for row in list_values]\n",
    "# plotting the line 2 points \n",
    "plt.plot(x2, y2, label = \"EV\")\n",
    "plt.xlabel('Number of trip file')\n",
    "# Set the y axis label of the current axis.\n",
    "plt.ylabel('Energy Consumption')\n",
    "# Set a title of the current axes.\n",
    "plt.title('Average EC over all trip files')\n",
    "# show a legend on the plot\n",
    "plt.legend()\n",
    "# Display a figure.\n",
    "plt.show()"
   ]
  },
  {
   "cell_type": "code",
   "execution_count": null,
   "metadata": {},
   "outputs": [],
   "source": []
  },
  {
   "cell_type": "code",
   "execution_count": null,
   "metadata": {},
   "outputs": [],
   "source": []
  }
 ],
 "metadata": {
  "colab": {
   "collapsed_sections": [],
   "name": "EnergyConsumption.ipynb",
   "provenance": []
  },
  "kernelspec": {
   "display_name": "Python 3",
   "language": "python",
   "name": "python3"
  },
  "language_info": {
   "codemirror_mode": {
    "name": "ipython",
    "version": 3
   },
   "file_extension": ".py",
   "mimetype": "text/x-python",
   "name": "python",
   "nbconvert_exporter": "python",
   "pygments_lexer": "ipython3",
   "version": "3.8.8"
  }
 },
 "nbformat": 4,
 "nbformat_minor": 1
} 
